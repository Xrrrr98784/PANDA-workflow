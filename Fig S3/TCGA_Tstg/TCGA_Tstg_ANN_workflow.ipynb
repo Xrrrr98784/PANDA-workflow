{
 "cells": [
  {
   "cell_type": "code",
   "execution_count": 1,
   "id": "549d0980",
   "metadata": {},
   "outputs": [
    {
     "data": {
      "text/plain": [
       "'/Users/ruixu/Library/CloudStorage/OneDrive-TheOhioStateUniversity/Rui Xu-Research/Colon cancer mutiomics study 2022F-/Data analysis/4.ANN OCCPI analysis/TCGA.Tstg'"
      ]
     },
     "execution_count": 1,
     "metadata": {},
     "output_type": "execute_result"
    }
   ],
   "source": [
    "%pwd"
   ]
  },
  {
   "cell_type": "code",
   "execution_count": 2,
   "id": "99507486",
   "metadata": {},
   "outputs": [
    {
     "name": "stderr",
     "output_type": "stream",
     "text": [
      "2025-01-07 02:24:39.021407: I tensorflow/core/platform/cpu_feature_guard.cc:193] This TensorFlow binary is optimized with oneAPI Deep Neural Network Library (oneDNN) to use the following CPU instructions in performance-critical operations:  AVX2 AVX512F AVX512_VNNI FMA\n",
      "To enable them in other operations, rebuild TensorFlow with the appropriate compiler flags.\n"
     ]
    }
   ],
   "source": [
    "import pandas as pd\n",
    "import numpy as np\n",
    "import matplotlib.pyplot as plt\n",
    "import keras\n",
    "import tensorflow as tf\n",
    "import random\n",
    "from tensorflow.keras.wrappers.scikit_learn import KerasClassifier\n",
    "from keras.layers import Activation, Input, Dense\n",
    "from sklearn.metrics import roc_auc_score\n",
    "from sklearn.model_selection import train_test_split\n",
    "from sklearn.preprocessing import StandardScaler\n",
    "from keras.utils import to_categorical\n",
    "from matplotlib import rcParams\n",
    "from matplotlib.backends.backend_pdf import PdfPages\n",
    "from tensorflow.keras.models import Model, Sequential"
   ]
  },
  {
   "cell_type": "code",
   "execution_count": 3,
   "id": "75a354b6",
   "metadata": {},
   "outputs": [
    {
     "name": "stdout",
     "output_type": "stream",
     "text": [
      "<class 'pandas.core.frame.DataFrame'>\n",
      "Int64Index: 374 entries, 1 to 374\n",
      "Columns: 16383 entries, Tstg to SLC7A11|23657\n",
      "dtypes: float64(16189), int64(194)\n",
      "memory usage: 46.8 MB\n",
      "None\n"
     ]
    }
   ],
   "source": [
    "df = pd.read_csv('/Users/ruixu/Library/CloudStorage/OneDrive-TheOhioStateUniversity/Rui Xu-Research/Colon cancer mutiomics study 2022F-/Data analysis/4.ANN OCCPI analysis/TCGA.Tstg/TCGA.Tstg.csv', index_col=0)\n",
    "df = df.replace([np.inf, -np.inf], np.nan)\n",
    "cols_to_fillna = df.columns[2:]\n",
    "df[cols_to_fillna] = df[cols_to_fillna].fillna(df[cols_to_fillna].mean())\n",
    "print(df.info())"
   ]
  },
  {
   "cell_type": "code",
   "execution_count": 4,
   "id": "d3e441ff",
   "metadata": {},
   "outputs": [
    {
     "name": "stdout",
     "output_type": "stream",
     "text": [
      "y_train group counts:\n",
      " 2    154\n",
      "1     34\n",
      "3     29\n",
      "0      6\n",
      "Name: Tstg, dtype: int64\n",
      "y_val group counts:\n",
      " 2    78\n",
      "1    17\n",
      "3    15\n",
      "0     3\n",
      "Name: Tstg, dtype: int64\n",
      "y_test group counts:\n",
      " 2    26\n",
      "1     6\n",
      "3     5\n",
      "0     1\n",
      "Name: Tstg, dtype: int64\n"
     ]
    }
   ],
   "source": [
    "X = df.iloc[:, 1:]  \n",
    "y = df['Tstg']  \n",
    "X_train, X_val, y_train, y_val = train_test_split(X, y, test_size=0.3, random_state=42, stratify=y)\n",
    "X_train, X_test, y_train, y_test = train_test_split(X_train, y_train, test_size=1/7, random_state=42, stratify=y_train)\n",
    "scaler = StandardScaler()\n",
    "X_train_normalized = scaler.fit_transform(X_train)\n",
    "X_val_normalized = scaler.fit_transform(X_val)\n",
    "X_test_normalized = scaler.transform(X_test)\n",
    "y_train_one_hot = to_categorical(y_train)\n",
    "y_val_one_hot = to_categorical(y_val)\n",
    "y_test_one_hot = to_categorical(y_test)\n",
    "print(\"y_train group counts:\\n\", pd.Series(y_train).value_counts())\n",
    "print(\"y_val group counts:\\n\", pd.Series(y_val).value_counts())\n",
    "print(\"y_test group counts:\\n\", pd.Series(y_test).value_counts())"
   ]
  },
  {
   "cell_type": "code",
   "execution_count": 5,
   "id": "f4ff03f5",
   "metadata": {},
   "outputs": [],
   "source": [
    "def build_model(hidden_layers=5, layer_size=113, learning_rate=9.7e-3,\n",
    "                activation='relu', regularization = None, reg_strength = 0, batch_size=64):\n",
    "    model = keras.models.Sequential()\n",
    "    model.add(keras.layers.Dense(layer_size, activation=activation, input_shape=(X_train.shape[1],)))\n",
    "    \n",
    "    if regularization is not None:\n",
    "        if regularization == 'l1':\n",
    "            reg = keras.regularizers.l1(reg_strength)\n",
    "        elif regularization == 'l2':\n",
    "            reg = keras.regularizers.l2(reg_strength)\n",
    "        else:\n",
    "            raise ValueError(\"Invalid regularization type. Choose 'l1' or 'l2'.\")\n",
    "        model.add(keras.layers.Dense(layer_size, activation=activation, kernel_regularizer=reg))\n",
    "    else:\n",
    "        model.add(keras.layers.Dense(layer_size, activation=activation))\n",
    "    for _ in range(hidden_layers-1):\n",
    "        if regularization is not None:\n",
    "            model.add(keras.layers.Dense(layer_size, activation=activation, kernel_regularizer=reg))\n",
    "        else:\n",
    "            model.add(keras.layers.Dense(layer_size, activation=activation))\n",
    "    \n",
    "    model.add(keras.layers.Dense(4))\n",
    "    model.add(Activation('softmax'))\n",
    "    optimizer = keras.optimizers.SGD(learning_rate)\n",
    "    model.compile(loss='categorical_crossentropy', optimizer=optimizer, metrics=['accuracy'])\n",
    "    return model\n",
    "def plot_learning_curves(history, pdf_filename='learning_curves.pdf',ylim=(0, 2.5)):\n",
    "    rcParams['pdf.fonttype'] = 42  \n",
    "    rcParams['font.family'] = 'Arial'\n",
    "    fig, ax = plt.subplots(figsize=(8, 5))\n",
    "    pd.DataFrame(history.history).plot(ax=ax)\n",
    "    ax.grid(False)\n",
    "    ax.set_ylim(*ylim)\n",
    "    max_epochs = len(history.history['loss'])\n",
    "    ax.set_xticks(range(0, max_epochs + 1, 25))\n",
    "    ax.tick_params(labelsize=20)  \n",
    "    ax.legend(loc='upper right', fontsize=20)  \n",
    "    with PdfPages(pdf_filename) as pdf:\n",
    "        pdf.savefig(fig, bbox_inches='tight')"
   ]
  },
  {
   "cell_type": "code",
   "execution_count": 6,
   "id": "e3bf00c3",
   "metadata": {},
   "outputs": [
    {
     "name": "stderr",
     "output_type": "stream",
     "text": [
      "/var/folders/xm/v410f3rx60n6h8209h6jtpww0000gn/T/ipykernel_92008/4279531364.py:4: DeprecationWarning: KerasClassifier is deprecated, use Sci-Keras (https://github.com/adriangb/scikeras) instead. See https://www.adriangb.com/scikeras/stable/migration.html for help migrating.\n",
      "  sklearn_model = keras.wrappers.scikit_learn.KerasClassifier(build_model)\n",
      "2025-01-07 02:26:45.224991: I tensorflow/core/platform/cpu_feature_guard.cc:193] This TensorFlow binary is optimized with oneAPI Deep Neural Network Library (oneDNN) to use the following CPU instructions in performance-critical operations:  AVX2 AVX512F AVX512_VNNI FMA\n",
      "To enable them in other operations, rebuild TensorFlow with the appropriate compiler flags.\n"
     ]
    },
    {
     "name": "stdout",
     "output_type": "stream",
     "text": [
      "2/2 [==============================] - 0s 5ms/step - loss: 2.1508 - accuracy: 0.5789\n",
      "Test Accuracy: 0.5789473652839661\n",
      "2/2 [==============================] - 0s 3ms/step\n",
      "AUC Scores: [0.56756757 0.58854167 0.54166667 0.67878788]\n"
     ]
    },
    {
     "data": {
      "image/png": "[encoded data removed]",
      "text/plain": [
       "<Figure size 576x360 with 1 Axes>"
      ]
     },
     "metadata": {
      "needs_background": "light"
     },
     "output_type": "display_data"
    }
   ],
   "source": [
    "np.random.seed(42)\n",
    "tf.random.set_seed(42)\n",
    "random.seed(42)\n",
    "sklearn_model = keras.wrappers.scikit_learn.KerasClassifier(build_model)\n",
    "history1 = sklearn_model.fit(X_train_normalized, y_train_one_hot,\n",
    "                            epochs = 100,\n",
    "                            validation_data=(X_val_normalized,y_val_one_hot), \n",
    "                            verbose=0)\n",
    "        \n",
    "plot_learning_curves(history1, pdf_filename='learning_curve_1.pdf',ylim=(0, 2.5))\n",
    "test_accuracy = sklearn_model.score(X_test_normalized, y_test_one_hot)\n",
    "print(\"Test Accuracy:\", test_accuracy)\n",
    "y_pred_prob = sklearn_model.predict_proba(X_test_normalized)\n",
    "auc_scores = roc_auc_score(y_test_one_hot, y_pred_prob, average=None)\n",
    "print(\"AUC Scores:\", auc_scores)"
   ]
  },
  {
   "cell_type": "code",
   "execution_count": 7,
   "id": "fa338053",
   "metadata": {},
   "outputs": [
    {
     "name": "stdout",
     "output_type": "stream",
     "text": [
      "7/7 [==============================] - 0s 2ms/step\n",
      "4/4 [==============================] - 0s 2ms/step\n",
      "2/2 [==============================] - 0s 3ms/step\n"
     ]
    },
    {
     "name": "stderr",
     "output_type": "stream",
     "text": [
      "/var/folders/xm/v410f3rx60n6h8209h6jtpww0000gn/T/ipykernel_92008/3925230247.py:54: DeprecationWarning: KerasClassifier is deprecated, use Sci-Keras (https://github.com/adriangb/scikeras) instead. See https://www.adriangb.com/scikeras/stable/migration.html for help migrating.\n",
      "  sklearn_model2 = KerasClassifier(build_fn=build_model_after_encoder)\n"
     ]
    },
    {
     "name": "stdout",
     "output_type": "stream",
     "text": [
      "2/2 [==============================] - 0s 4ms/step - loss: 0.9177 - accuracy: 0.6842\n",
      "Encoding Dim: 2, Test Accuracy: 0.6842105388641357\n",
      "7/7 [==============================] - 0s 2ms/step\n",
      "4/4 [==============================] - 0s 2ms/step\n",
      "2/2 [==============================] - 0s 2ms/step\n",
      "2/2 [==============================] - 0s 4ms/step - loss: 0.9673 - accuracy: 0.6842\n",
      "Encoding Dim: 3, Test Accuracy: 0.6842105388641357\n",
      "7/7 [==============================] - 0s 2ms/step\n",
      "4/4 [==============================] - 0s 3ms/step\n",
      "2/2 [==============================] - 0s 3ms/step\n",
      "2/2 [==============================] - 0s 5ms/step - loss: 1.1159 - accuracy: 0.6842\n",
      "Encoding Dim: 4, Test Accuracy: 0.6842105388641357\n",
      "7/7 [==============================] - 0s 2ms/step\n",
      "4/4 [==============================] - 0s 2ms/step\n",
      "2/2 [==============================] - 0s 3ms/step\n",
      "2/2 [==============================] - 0s 5ms/step - loss: 1.0303 - accuracy: 0.6842\n",
      "Encoding Dim: 5, Test Accuracy: 0.6842105388641357\n",
      "7/7 [==============================] - 0s 2ms/step\n",
      "4/4 [==============================] - 0s 2ms/step\n",
      "2/2 [==============================] - 0s 3ms/step\n",
      "2/2 [==============================] - 0s 5ms/step - loss: 0.9204 - accuracy: 0.6842\n",
      "Encoding Dim: 6, Test Accuracy: 0.6842105388641357\n",
      "7/7 [==============================] - 0s 2ms/step\n",
      "4/4 [==============================] - 0s 2ms/step\n",
      "2/2 [==============================] - 0s 3ms/step\n",
      "2/2 [==============================] - 0s 5ms/step - loss: 0.8918 - accuracy: 0.6842\n",
      "Encoding Dim: 7, Test Accuracy: 0.6842105388641357\n",
      "7/7 [==============================] - 0s 2ms/step\n",
      "4/4 [==============================] - 0s 2ms/step\n",
      "2/2 [==============================] - 0s 7ms/step\n",
      "2/2 [==============================] - 0s 4ms/step - loss: 1.0908 - accuracy: 0.6842\n",
      "Encoding Dim: 8, Test Accuracy: 0.6842105388641357\n",
      "7/7 [==============================] - 0s 2ms/step\n",
      "4/4 [==============================] - 0s 2ms/step\n",
      "2/2 [==============================] - 0s 3ms/step\n",
      "2/2 [==============================] - 0s 5ms/step - loss: 0.9710 - accuracy: 0.6842\n",
      "Encoding Dim: 9, Test Accuracy: 0.6842105388641357\n",
      "7/7 [==============================] - 0s 2ms/step\n",
      "4/4 [==============================] - 0s 2ms/step\n",
      "2/2 [==============================] - 0s 2ms/step\n",
      "2/2 [==============================] - 0s 4ms/step - loss: 1.2042 - accuracy: 0.6842\n",
      "Encoding Dim: 10, Test Accuracy: 0.6842105388641357\n"
     ]
    }
   ],
   "source": [
    "def build_encoder(encoding_dim):\n",
    "    # Define the encoder model\n",
    "    input_dim = X_train_normalized.shape[1]\n",
    "    input_layer = Input(shape=(input_dim,))\n",
    "    encoded = Dense(encoding_dim, activation='relu')(input_layer)\n",
    "    encoder = Model(input_layer, encoded)\n",
    "    encoder.compile(optimizer='adam', loss='mse')\n",
    "    return encoder\n",
    "def build_model_after_encoder(hidden_layers=5, \n",
    "                              layer_size = 113,\n",
    "                              learning_rate = 9.7e-3,\n",
    "                              activation = 'relu',\n",
    "                              regularization = None,\n",
    "                              reg_strength = 0,\n",
    "                              batch_size = 64):\n",
    "    model = keras.models.Sequential()\n",
    "    model.add(keras.layers.Dense(layer_size, activation=activation))\n",
    "    if regularization is not None:\n",
    "        if regularization == 'l1':\n",
    "            reg = keras.regularizers.l1(reg_strength)\n",
    "        elif regularization == 'l2':\n",
    "            reg = keras.regularizers.l2(reg_strength)\n",
    "        else:\n",
    "            raise ValueError(\"Invalid regularization type. Choose 'l1' or 'l2'.\")\n",
    "        model.add(keras.layers.Dense(layer_size, activation=activation, kernel_regularizer=reg))\n",
    "    else:\n",
    "        model.add(keras.layers.Dense(layer_size, activation=activation))\n",
    "    \n",
    "    for _ in range(hidden_layers-1):\n",
    "        if regularization is not None:\n",
    "            model.add(keras.layers.Dense(layer_size, activation=activation, kernel_regularizer=reg))\n",
    "        else:\n",
    "            model.add(keras.layers.Dense(layer_size, activation=activation))\n",
    "    \n",
    "    model.add(keras.layers.Dense(4))\n",
    "    model.add(keras.layers.Activation('softmax'))\n",
    "    optimizer = keras.optimizers.SGD(learning_rate)\n",
    "    model.compile(loss='categorical_crossentropy', optimizer=optimizer, metrics=['accuracy'])\n",
    "    return model\n",
    "best_test_accuracy = 0\n",
    "best_encoding_dim = None\n",
    "best_loss = float('inf')\n",
    "best_history = None\n",
    "best_model = None\n",
    "\n",
    "for encoding_dim in range(2, 11):\n",
    "    encoder_model = build_encoder(encoding_dim)\n",
    "    X_train_encoded = encoder_model.predict(X_train_normalized)\n",
    "    X_val_encoded = encoder_model.predict(X_val_normalized)\n",
    "    X_test_encoded = encoder_model.predict(X_test_normalized)\n",
    "    np.random.seed(42)\n",
    "    tf.random.set_seed(42)\n",
    "    random.seed(42)\n",
    "    sklearn_model2 = KerasClassifier(build_fn=build_model_after_encoder)\n",
    "    history = sklearn_model2.fit(X_train_encoded, y_train_one_hot,\n",
    "                            epochs=100,\n",
    "                            validation_data=(X_val_encoded, y_val_one_hot),\n",
    "                            verbose=0)\n",
    "\n",
    "    test_accuracy = sklearn_model2.score(X_test_encoded, y_test_one_hot)\n",
    "    print(f\"Encoding Dim: {encoding_dim}, Test Accuracy: {test_accuracy}\")\n",
    "    \n",
    "    if test_accuracy > best_test_accuracy:\n",
    "        best_test_accuracy = test_accuracy\n",
    "        best_encoding_dim = encoding_dim\n",
    "        best_history = history\n",
    "        best_model = sklearn_model"
   ]
  },
  {
   "cell_type": "code",
   "execution_count": 8,
   "id": "07ab32f4",
   "metadata": {},
   "outputs": [
    {
     "name": "stdout",
     "output_type": "stream",
     "text": [
      "Best Encoding Dim: 2, Best Test Accuracy: 0.6842105388641357\n"
     ]
    },
    {
     "data": {
      "image/png": "[encoded data removed]",
      "text/plain": [
       "<Figure size 576x360 with 1 Axes>"
      ]
     },
     "metadata": {
      "needs_background": "light"
     },
     "output_type": "display_data"
    }
   ],
   "source": [
    "print(f\"Best Encoding Dim: {best_encoding_dim}, Best Test Accuracy: {best_test_accuracy}\")\n",
    "history2 = best_history\n",
    "plot_learning_curves(history2, pdf_filename='learning_curve_2.pdf',ylim=(0, 2.5))"
   ]
  },
  {
   "cell_type": "code",
   "execution_count": 9,
   "id": "0f411917",
   "metadata": {},
   "outputs": [],
   "source": [
    "df1 = pd.read_csv('/Users/ruixu/Library/CloudStorage/OneDrive-TheOhioStateUniversity/Rui Xu-Research/Colon cancer mutiomics study 2022F-/Data analysis/4.ANN OCCPI analysis/TCGA.Tstg/plsda_score1.csv', index_col=0)"
   ]
  },
  {
   "cell_type": "code",
   "execution_count": 10,
   "id": "602cd43f",
   "metadata": {},
   "outputs": [
    {
     "name": "stdout",
     "output_type": "stream",
     "text": [
      "<class 'pandas.core.frame.DataFrame'>\n",
      "Int64Index: 374 entries, 1 to 374\n",
      "Data columns (total 9 columns):\n",
      " #   Column  Non-Null Count  Dtype  \n",
      "---  ------  --------------  -----  \n",
      " 0   Tstg    374 non-null    int64  \n",
      " 1   Comp 1  374 non-null    float64\n",
      " 2   Comp 2  374 non-null    float64\n",
      " 3   Comp 3  374 non-null    float64\n",
      " 4   Comp 4  374 non-null    float64\n",
      " 5   Comp 5  374 non-null    float64\n",
      " 6   Comp 6  374 non-null    float64\n",
      " 7   Comp 7  374 non-null    float64\n",
      " 8   Comp 8  374 non-null    float64\n",
      "dtypes: float64(8), int64(1)\n",
      "memory usage: 29.2 KB\n",
      "None\n"
     ]
    }
   ],
   "source": [
    "df1 = df1.replace([np.inf, -np.inf], np.nan)\n",
    "cols_to_fillna = df1.columns[2:]\n",
    "df1[cols_to_fillna] = df1[cols_to_fillna].fillna(df1[cols_to_fillna].mean())\n",
    "print(df1.info())"
   ]
  },
  {
   "cell_type": "code",
   "execution_count": 11,
   "id": "367af062",
   "metadata": {},
   "outputs": [
    {
     "name": "stdout",
     "output_type": "stream",
     "text": [
      "y_train group counts:\n",
      " 2    154\n",
      "1     34\n",
      "3     29\n",
      "0      6\n",
      "Name: Tstg, dtype: int64\n",
      "y_val group counts:\n",
      " 2    78\n",
      "1    17\n",
      "3    15\n",
      "0     3\n",
      "Name: Tstg, dtype: int64\n",
      "y_test group counts:\n",
      " 2    26\n",
      "1     6\n",
      "3     5\n",
      "0     1\n",
      "Name: Tstg, dtype: int64\n"
     ]
    }
   ],
   "source": [
    "X1 = df1.iloc[:, 1:]  \n",
    "y1 = df1['Tstg']  \n",
    "X1_train, X1_val, y1_train, y1_val = train_test_split(X1, y1, test_size=0.3, random_state=42, stratify=y1)\n",
    "X1_train, X1_test, y1_train, y1_test = train_test_split(X1_train, y1_train, test_size=1/7, random_state=42, stratify=y1_train)\n",
    "scaler = StandardScaler()\n",
    "X1_train_normalized = scaler.fit_transform(X1_train)\n",
    "X1_val_normalized = scaler.fit_transform(X1_val)\n",
    "X1_test_normalized = scaler.transform(X1_test)\n",
    "y1_train_one_hot = to_categorical(y1_train)\n",
    "y1_val_one_hot = to_categorical(y1_val)\n",
    "y1_test_one_hot = to_categorical(y1_test)\n",
    "print(\"y_train group counts:\\n\", pd.Series(y1_train).value_counts())\n",
    "print(\"y_val group counts:\\n\", pd.Series(y1_val).value_counts())\n",
    "print(\"y_test group counts:\\n\", pd.Series(y1_test).value_counts())"
   ]
  },
  {
   "cell_type": "code",
   "execution_count": 12,
   "id": "915ccce4",
   "metadata": {},
   "outputs": [
    {
     "name": "stderr",
     "output_type": "stream",
     "text": [
      "/var/folders/xm/v410f3rx60n6h8209h6jtpww0000gn/T/ipykernel_92008/3767249302.py:34: DeprecationWarning: KerasClassifier is deprecated, use Sci-Keras (https://github.com/adriangb/scikeras) instead. See https://www.adriangb.com/scikeras/stable/migration.html for help migrating.\n",
      "  sklearn_model3 = KerasClassifier(build_fn=build_model, input_shape=(X1_train_normalized.shape[1],),\n"
     ]
    },
    {
     "name": "stdout",
     "output_type": "stream",
     "text": [
      "Test Accuracy: 0.8684210777282715\n"
     ]
    },
    {
     "data": {
      "image/png": "[encoded data removed]",
      "text/plain": [
       "<Figure size 576x360 with 1 Axes>"
      ]
     },
     "metadata": {
      "needs_background": "light"
     },
     "output_type": "display_data"
    }
   ],
   "source": [
    "def build_model(input_shape, hidden_layers=1, layer_size=30, learning_rate=3e-2,\n",
    "                activation='relu', regularization=None, reg_strength=1e-4, batch_size=32):\n",
    "    model = keras.models.Sequential()\n",
    "    model.add(keras.layers.Dense(layer_size, activation=activation, input_shape=input_shape))\n",
    "    \n",
    "    if regularization is not None:\n",
    "        if regularization == 'l1':\n",
    "            reg = keras.regularizers.l1(reg_strength)\n",
    "        elif regularization == 'l2':\n",
    "            reg = keras.regularizers.l2(reg_strength)\n",
    "        else:\n",
    "            raise ValueError(\"Invalid regularization type. Choose 'l1' or 'l2'.\")\n",
    "        model.add(keras.layers.Dense(layer_size, activation=activation, kernel_regularizer=reg))\n",
    "    else:\n",
    "        model.add(keras.layers.Dense(layer_size, activation=activation))\n",
    "    \n",
    "    for _ in range(hidden_layers-1):\n",
    "   \n",
    "        if regularization is not None:\n",
    "            model.add(keras.layers.Dense(layer_size, activation=activation, kernel_regularizer=reg))\n",
    "        else:\n",
    "            model.add(keras.layers.Dense(layer_size, activation=activation))\n",
    "    \n",
    "    model.add(keras.layers.Dense(4))\n",
    "    model.add(Activation('softmax'))\n",
    "    optimizer = keras.optimizers.SGD(learning_rate)\n",
    "    model.compile(loss='categorical_crossentropy', optimizer=optimizer, metrics=['accuracy'])\n",
    "    return model\n",
    "\n",
    "\n",
    "np.random.seed(42)\n",
    "tf.random.set_seed(42)\n",
    "random.seed(42)\n",
    "sklearn_model3 = KerasClassifier(build_fn=build_model, input_shape=(X1_train_normalized.shape[1],),\n",
    "                                  epochs=100, batch_size=32, verbose=0)\n",
    "\n",
    "\n",
    "history3 = sklearn_model3.fit(X1_train_normalized, y1_train_one_hot, validation_data=(X1_val_normalized, y1_val_one_hot))\n",
    "\n",
    "\n",
    "test_accuracy = sklearn_model3.score(X1_test_normalized, y1_test_one_hot)\n",
    "\n",
    "plot_learning_curves(history3, pdf_filename='learning_curve_3.pdf',ylim=(0, 2.5))\n",
    "print(\"Test Accuracy:\", test_accuracy)\n"
   ]
  },
  {
   "cell_type": "code",
   "execution_count": null,
   "id": "84071020",
   "metadata": {},
   "outputs": [],
   "source": []
  }
 ],
 "metadata": {
  "kernelspec": {
   "display_name": "Python 3 (ipykernel)",
   "language": "python",
   "name": "python3"
  },
  "language_info": {
   "codemirror_mode": {
    "name": "ipython",
    "version": 3
   },
   "file_extension": ".py",
   "mimetype": "text/x-python",
   "name": "python",
   "nbconvert_exporter": "python",
   "pygments_lexer": "ipython3",
   "version": "3.9.12"
  }
 },
 "nbformat": 4,
 "nbformat_minor": 5
}
